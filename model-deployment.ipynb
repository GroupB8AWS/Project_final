{
 "cells": [
  {
   "cell_type": "markdown",
   "id": "2ecb9a78",
   "metadata": {},
   "source": [
    "# Spotify dataset · Model deployment"
   ]
  },
  {
   "cell_type": "markdown",
   "id": "69c31a8f",
   "metadata": {},
   "source": [
    "## Training of the model"
   ]
  },
  {
   "cell_type": "code",
   "execution_count": 18,
   "id": "1acf85eb",
   "metadata": {},
   "outputs": [],
   "source": [
    "# Import the necessary libraries\n",
    "\n",
    "import pandas as pd\n",
    "import numpy as np\n",
    "import boto3\n",
    "import sagemaker\n",
    "from sagemaker.inputs import TrainingInput\n",
    "from sagemaker.serializers import CSVSerializer\n",
    "import io\n",
    "from sklearn.metrics import accuracy_score, recall_score, precision_score\n",
    "from sklearn.metrics import confusion_matrix\n"
   ]
  },
  {
   "cell_type": "code",
   "execution_count": 3,
   "id": "5ee5f31a",
   "metadata": {},
   "outputs": [],
   "source": [
    "# Set up the SageMaker session and role \n",
    "\n",
    "session = sagemaker.Session()\n",
    "role = sagemaker.get_execution_role()"
   ]
  },
  {
   "cell_type": "code",
   "execution_count": 4,
   "id": "f1b571aa",
   "metadata": {},
   "outputs": [],
   "source": [
    "# Name of the bucket\n",
    "\n",
    "prefix = \"spotify-project-b8\""
   ]
  },
  {
   "cell_type": "code",
   "execution_count": 5,
   "id": "a128bc88",
   "metadata": {},
   "outputs": [],
   "source": [
    "# We define the bucket\n",
    "\n",
    "bucket = sagemaker.Session().default_bucket()"
   ]
  },
  {
   "cell_type": "code",
   "execution_count": 6,
   "id": "faadd90b",
   "metadata": {},
   "outputs": [
    {
     "data": {
      "text/plain": [
       "'683313688378.dkr.ecr.us-east-1.amazonaws.com/sagemaker-xgboost:1.5-1'"
      ]
     },
     "execution_count": 6,
     "metadata": {},
     "output_type": "execute_result"
    }
   ],
   "source": [
    "# We define the container\n",
    "\n",
    "container = sagemaker.image_uris.retrieve(\"xgboost\", session.boto_region_name, \"1.5-1\")\n",
    "container"
   ]
  },
  {
   "cell_type": "code",
   "execution_count": 7,
   "id": "66dfc7e5",
   "metadata": {},
   "outputs": [],
   "source": [
    "# We load the data from the S3 bucket\n",
    "\n",
    "train_data = TrainingInput(s3_data = \"s3://{}/{}/train\".format(prefix, prefix), content_type=\"csv\")\n",
    "validation_data = TrainingInput(s3_data = \"s3://{}/{}/validation\".format(prefix, prefix), content_type=\"csv\")"
   ]
  },
  {
   "cell_type": "code",
   "execution_count": 9,
   "id": "dc070f6c",
   "metadata": {},
   "outputs": [
    {
     "name": "stderr",
     "output_type": "stream",
     "text": [
      "INFO:sagemaker:Creating training-job with name: sagemaker-xgboost-2023-03-14-20-48-21-183\n"
     ]
    },
    {
     "name": "stdout",
     "output_type": "stream",
     "text": [
      "2023-03-14 20:48:21 Starting - Starting the training job......\n",
      "2023-03-14 20:49:07 Starting - Preparing the instances for training......\n",
      "2023-03-14 20:50:16 Downloading - Downloading input data...\n",
      "2023-03-14 20:50:46 Training - Downloading the training image......\n",
      "2023-03-14 20:51:37 Training - Training image download completed. Training in progress..\u001b[34m[2023-03-14 20:51:47.317 ip-10-2-122-59.ec2.internal:7 INFO utils.py:28] RULE_JOB_STOP_SIGNAL_FILENAME: None\u001b[0m\n",
      "\u001b[34m[2023-03-14 20:51:47.393 ip-10-2-122-59.ec2.internal:7 INFO profiler_config_parser.py:111] User has disabled profiler.\u001b[0m\n",
      "\u001b[34m[2023-03-14:20:51:47:INFO] Imported framework sagemaker_xgboost_container.training\u001b[0m\n",
      "\u001b[34m[2023-03-14:20:51:47:INFO] Failed to parse hyperparameter eval_metric value error to Json.\u001b[0m\n",
      "\u001b[34mReturning the value itself\u001b[0m\n",
      "\u001b[34m[2023-03-14:20:51:47:INFO] Failed to parse hyperparameter objective value binary:logistic to Json.\u001b[0m\n",
      "\u001b[34mReturning the value itself\u001b[0m\n",
      "\u001b[34m[2023-03-14:20:51:47:INFO] No GPUs detected (normal if no gpus installed)\u001b[0m\n",
      "\u001b[34m[2023-03-14:20:51:47:INFO] Running XGBoost Sagemaker in algorithm mode\u001b[0m\n",
      "\u001b[34m[2023-03-14:20:51:47:INFO] Determined 0 GPU(s) available on the instance.\u001b[0m\n",
      "\u001b[34m[2023-03-14:20:51:47:INFO] Determined delimiter of CSV input is ','\u001b[0m\n",
      "\u001b[34m[2023-03-14:20:51:47:INFO] Determined delimiter of CSV input is ','\u001b[0m\n",
      "\u001b[34m[2023-03-14:20:51:47:INFO] files path: /opt/ml/input/data/train\u001b[0m\n",
      "\u001b[34m[2023-03-14:20:51:47:INFO] Determined delimiter of CSV input is ','\u001b[0m\n",
      "\u001b[34m[2023-03-14:20:51:47:INFO] files path: /opt/ml/input/data/validation\u001b[0m\n",
      "\u001b[34m[2023-03-14:20:51:47:INFO] Determined delimiter of CSV input is ','\u001b[0m\n",
      "\u001b[34m[2023-03-14:20:51:47:INFO] Single node training.\u001b[0m\n",
      "\u001b[34m[2023-03-14:20:51:47:INFO] Train matrix has 24664 rows and 15 columns\u001b[0m\n",
      "\u001b[34m[2023-03-14:20:51:47:INFO] Validation matrix has 8222 rows\u001b[0m\n",
      "\u001b[34m[2023-03-14 20:51:47.859 ip-10-2-122-59.ec2.internal:7 INFO json_config.py:92] Creating hook from json_config at /opt/ml/input/config/debughookconfig.json.\u001b[0m\n",
      "\u001b[34m[2023-03-14 20:51:47.860 ip-10-2-122-59.ec2.internal:7 INFO hook.py:206] tensorboard_dir has not been set for the hook. SMDebug will not be exporting tensorboard summaries.\u001b[0m\n",
      "\u001b[34m[2023-03-14 20:51:47.861 ip-10-2-122-59.ec2.internal:7 INFO hook.py:259] Saving to /opt/ml/output/tensors\u001b[0m\n",
      "\u001b[34m[2023-03-14 20:51:47.861 ip-10-2-122-59.ec2.internal:7 INFO state_store.py:77] The checkpoint config file /opt/ml/input/config/checkpointconfig.json does not exist.\u001b[0m\n",
      "\u001b[34m[2023-03-14:20:51:47:INFO] Debug hook created from config\u001b[0m\n",
      "\u001b[34m[0]#011train-error:0.19048#011validation-error:0.24288\u001b[0m\n",
      "\u001b[34m[2023-03-14 20:51:48.018 ip-10-2-122-59.ec2.internal:7 INFO hook.py:427] Monitoring the collections: metrics\u001b[0m\n",
      "\u001b[34m[2023-03-14 20:51:48.022 ip-10-2-122-59.ec2.internal:7 INFO hook.py:491] Hook is writing from the hook with pid: 7\u001b[0m\n",
      "\u001b[34m[1]#011train-error:0.17171#011validation-error:0.22428\u001b[0m\n",
      "\u001b[34m[2]#011train-error:0.15979#011validation-error:0.21759\u001b[0m\n",
      "\u001b[34m[3]#011train-error:0.15338#011validation-error:0.21296\u001b[0m\n",
      "\u001b[34m[4]#011train-error:0.14677#011validation-error:0.21053\u001b[0m\n",
      "\u001b[34m[5]#011train-error:0.14466#011validation-error:0.20737\u001b[0m\n",
      "\u001b[34m[6]#011train-error:0.14154#011validation-error:0.20542\u001b[0m\n",
      "\u001b[34m[7]#011train-error:0.13952#011validation-error:0.20457\u001b[0m\n",
      "\u001b[34m[8]#011train-error:0.13656#011validation-error:0.20433\u001b[0m\n",
      "\u001b[34m[9]#011train-error:0.13510#011validation-error:0.20421\u001b[0m\n",
      "\u001b[34m[10]#011train-error:0.13056#011validation-error:0.20129\u001b[0m\n",
      "\u001b[34m[11]#011train-error:0.12751#011validation-error:0.20068\u001b[0m\n",
      "\u001b[34m[12]#011train-error:0.12759#011validation-error:0.20032\u001b[0m\n",
      "\u001b[34m[13]#011train-error:0.12642#011validation-error:0.19898\u001b[0m\n",
      "\u001b[34m[14]#011train-error:0.12577#011validation-error:0.19861\u001b[0m\n",
      "\u001b[34m[15]#011train-error:0.12528#011validation-error:0.19837\u001b[0m\n",
      "\u001b[34m[16]#011train-error:0.12439#011validation-error:0.19667\u001b[0m\n",
      "\u001b[34m[17]#011train-error:0.12224#011validation-error:0.19752\u001b[0m\n",
      "\u001b[34m[18]#011train-error:0.12046#011validation-error:0.19618\u001b[0m\n",
      "\u001b[34m[19]#011train-error:0.11827#011validation-error:0.19448\u001b[0m\n",
      "\u001b[34m[20]#011train-error:0.11823#011validation-error:0.19496\u001b[0m\n",
      "\u001b[34m[21]#011train-error:0.11742#011validation-error:0.19338\u001b[0m\n",
      "\u001b[34m[22]#011train-error:0.11709#011validation-error:0.19363\u001b[0m\n",
      "\u001b[34m[23]#011train-error:0.11527#011validation-error:0.19253\u001b[0m\n",
      "\u001b[34m[24]#011train-error:0.11434#011validation-error:0.19278\u001b[0m\n",
      "\u001b[34m[25]#011train-error:0.11280#011validation-error:0.19241\u001b[0m\n",
      "\u001b[34m[26]#011train-error:0.11113#011validation-error:0.19351\u001b[0m\n",
      "\u001b[34m[27]#011train-error:0.11044#011validation-error:0.19472\u001b[0m\n",
      "\u001b[34m[28]#011train-error:0.11044#011validation-error:0.19472\u001b[0m\n",
      "\u001b[34m[29]#011train-error:0.11044#011validation-error:0.19472\u001b[0m\n",
      "\u001b[34m[30]#011train-error:0.11044#011validation-error:0.19472\u001b[0m\n",
      "\u001b[34m[31]#011train-error:0.11044#011validation-error:0.19472\u001b[0m\n",
      "\u001b[34m[32]#011train-error:0.11044#011validation-error:0.19472\u001b[0m\n",
      "\u001b[34m[33]#011train-error:0.11044#011validation-error:0.19472\u001b[0m\n",
      "\u001b[34m[34]#011train-error:0.11044#011validation-error:0.19472\u001b[0m\n",
      "\u001b[34m[35]#011train-error:0.11044#011validation-error:0.19472\u001b[0m\n",
      "\u001b[34m[36]#011train-error:0.11044#011validation-error:0.19472\u001b[0m\n",
      "\u001b[34m[37]#011train-error:0.11044#011validation-error:0.19472\u001b[0m\n",
      "\u001b[34m[38]#011train-error:0.11044#011validation-error:0.19472\u001b[0m\n",
      "\u001b[34m[39]#011train-error:0.11044#011validation-error:0.19472\u001b[0m\n",
      "\u001b[34m[40]#011train-error:0.11044#011validation-error:0.19472\u001b[0m\n",
      "\u001b[34m[41]#011train-error:0.11044#011validation-error:0.19472\u001b[0m\n",
      "\u001b[34m[42]#011train-error:0.11044#011validation-error:0.19472\u001b[0m\n",
      "\u001b[34m[43]#011train-error:0.11044#011validation-error:0.19472\u001b[0m\n",
      "\u001b[34m[44]#011train-error:0.11044#011validation-error:0.19472\u001b[0m\n",
      "\u001b[34m[45]#011train-error:0.11044#011validation-error:0.19472\u001b[0m\n",
      "\u001b[34m[46]#011train-error:0.11044#011validation-error:0.19472\u001b[0m\n",
      "\u001b[34m[47]#011train-error:0.11044#011validation-error:0.19472\u001b[0m\n",
      "\u001b[34m[48]#011train-error:0.11044#011validation-error:0.19472\u001b[0m\n",
      "\u001b[34m[49]#011train-error:0.11044#011validation-error:0.19472\u001b[0m\n",
      "\u001b[34m[50]#011train-error:0.11044#011validation-error:0.19472\u001b[0m\n",
      "\u001b[34m[51]#011train-error:0.11044#011validation-error:0.19472\u001b[0m\n",
      "\u001b[34m[52]#011train-error:0.11044#011validation-error:0.19472\u001b[0m\n",
      "\u001b[34m[53]#011train-error:0.11044#011validation-error:0.19472\u001b[0m\n",
      "\u001b[34m[54]#011train-error:0.11044#011validation-error:0.19472\u001b[0m\n",
      "\u001b[34m[55]#011train-error:0.11044#011validation-error:0.19472\u001b[0m\n",
      "\u001b[34m[56]#011train-error:0.11044#011validation-error:0.19472\u001b[0m\n",
      "\u001b[34m[57]#011train-error:0.11044#011validation-error:0.19472\u001b[0m\n",
      "\u001b[34m[58]#011train-error:0.11044#011validation-error:0.19472\u001b[0m\n",
      "\u001b[34m[59]#011train-error:0.11044#011validation-error:0.19472\u001b[0m\n",
      "\u001b[34m[60]#011train-error:0.11044#011validation-error:0.19472\u001b[0m\n",
      "\u001b[34m[61]#011train-error:0.11044#011validation-error:0.19472\u001b[0m\n",
      "\u001b[34m[62]#011train-error:0.11044#011validation-error:0.19472\u001b[0m\n",
      "\u001b[34m[63]#011train-error:0.11044#011validation-error:0.19472\u001b[0m\n",
      "\u001b[34m[64]#011train-error:0.11044#011validation-error:0.19472\u001b[0m\n",
      "\u001b[34m[65]#011train-error:0.11044#011validation-error:0.19472\u001b[0m\n",
      "\u001b[34m[66]#011train-error:0.11044#011validation-error:0.19472\u001b[0m\n",
      "\u001b[34m[67]#011train-error:0.11044#011validation-error:0.19472\u001b[0m\n",
      "\u001b[34m[68]#011train-error:0.11044#011validation-error:0.19472\u001b[0m\n",
      "\u001b[34m[69]#011train-error:0.11044#011validation-error:0.19472\u001b[0m\n",
      "\u001b[34m[70]#011train-error:0.11044#011validation-error:0.19472\u001b[0m\n",
      "\u001b[34m[71]#011train-error:0.11044#011validation-error:0.19472\u001b[0m\n",
      "\u001b[34m[72]#011train-error:0.11044#011validation-error:0.19472\u001b[0m\n",
      "\u001b[34m[73]#011train-error:0.11044#011validation-error:0.19472\u001b[0m\n",
      "\u001b[34m[74]#011train-error:0.11044#011validation-error:0.19472\u001b[0m\n",
      "\u001b[34m[75]#011train-error:0.11044#011validation-error:0.19472\u001b[0m\n",
      "\u001b[34m[76]#011train-error:0.11044#011validation-error:0.19472\u001b[0m\n",
      "\u001b[34m[77]#011train-error:0.11044#011validation-error:0.19472\u001b[0m\n",
      "\u001b[34m[78]#011train-error:0.11044#011validation-error:0.19472\u001b[0m\n",
      "\u001b[34m[79]#011train-error:0.11044#011validation-error:0.19472\u001b[0m\n",
      "\u001b[34m[80]#011train-error:0.11044#011validation-error:0.19472\u001b[0m\n",
      "\u001b[34m[81]#011train-error:0.11044#011validation-error:0.19472\u001b[0m\n",
      "\u001b[34m[82]#011train-error:0.11044#011validation-error:0.19472\u001b[0m\n",
      "\u001b[34m[83]#011train-error:0.11044#011validation-error:0.19472\u001b[0m\n",
      "\u001b[34m[84]#011train-error:0.11044#011validation-error:0.19472\u001b[0m\n",
      "\u001b[34m[85]#011train-error:0.11044#011validation-error:0.19472\u001b[0m\n",
      "\u001b[34m[86]#011train-error:0.11044#011validation-error:0.19472\u001b[0m\n",
      "\u001b[34m[87]#011train-error:0.11044#011validation-error:0.19472\u001b[0m\n",
      "\u001b[34m[88]#011train-error:0.11044#011validation-error:0.19472\u001b[0m\n",
      "\u001b[34m[89]#011train-error:0.11044#011validation-error:0.19472\u001b[0m\n",
      "\u001b[34m[90]#011train-error:0.11044#011validation-error:0.19472\u001b[0m\n",
      "\u001b[34m[91]#011train-error:0.11044#011validation-error:0.19472\u001b[0m\n",
      "\u001b[34m[92]#011train-error:0.11044#011validation-error:0.19472\u001b[0m\n",
      "\u001b[34m[93]#011train-error:0.11044#011validation-error:0.19472\u001b[0m\n",
      "\u001b[34m[94]#011train-error:0.11044#011validation-error:0.19472\u001b[0m\n",
      "\u001b[34m[95]#011train-error:0.11044#011validation-error:0.19472\u001b[0m\n",
      "\u001b[34m[96]#011train-error:0.11044#011validation-error:0.19472\u001b[0m\n",
      "\u001b[34m[97]#011train-error:0.11044#011validation-error:0.19472\u001b[0m\n",
      "\u001b[34m[98]#011train-error:0.11044#011validation-error:0.19472\u001b[0m\n",
      "\u001b[34m[99]#011train-error:0.11044#011validation-error:0.19472\u001b[0m\n",
      "\n",
      "2023-03-14 20:52:13 Uploading - Uploading generated training model\n",
      "2023-03-14 20:52:13 Completed - Training job completed\n",
      "Training seconds: 117\n",
      "Billable seconds: 117\n"
     ]
    }
   ],
   "source": [
    "#Train the model \n",
    "\n",
    "xgb = sagemaker.estimator.Estimator(\n",
    "    container,\n",
    "    role,\n",
    "    instance_count = 1,\n",
    "    instance_type = \"ml.m4.xlarge\",\n",
    "    output_path = \"s3://{}/{}/output\".format(bucket, prefix),\n",
    "    sagemaker_session=session,\n",
    ")\n",
    "xgb.set_hyperparameters(\n",
    "    alpha = 0.05,\n",
    "    eval_metric = \"error\",\n",
    "    gamma = 5,\n",
    "    max_depth = 10,\n",
    "    max_leaves = 20,\n",
    "    verbosity = 0,\n",
    "    objective = \"binary:logistic\",\n",
    "    num_round = 100,\n",
    ")\n",
    "\n",
    "xgb.fit({\"train\": train_data, \"validation\": validation_data})"
   ]
  },
  {
   "cell_type": "markdown",
   "id": "3698d9ab",
   "metadata": {},
   "source": [
    "## Deployment of the model"
   ]
  },
  {
   "cell_type": "code",
   "execution_count": 10,
   "id": "32674fe0",
   "metadata": {},
   "outputs": [
    {
     "name": "stderr",
     "output_type": "stream",
     "text": [
      "INFO:sagemaker:Creating model with name: sagemaker-xgboost-2023-03-14-20-52-37-437\n",
      "INFO:sagemaker:Creating endpoint-config with name sagemaker-xgboost-2023-03-14-20-52-37-437\n",
      "INFO:sagemaker:Creating endpoint with name sagemaker-xgboost-2023-03-14-20-52-37-437\n"
     ]
    },
    {
     "name": "stdout",
     "output_type": "stream",
     "text": [
      "----------!"
     ]
    }
   ],
   "source": [
    "# We deploy the model\n",
    "\n",
    "xgb_predictor = xgb.deploy(\n",
    "    initial_instance_count=1, instance_type=\"ml.m4.xlarge\", serializer=CSVSerializer()\n",
    ")"
   ]
  },
  {
   "cell_type": "code",
   "execution_count": 11,
   "id": "96b147e2",
   "metadata": {},
   "outputs": [
    {
     "name": "stderr",
     "output_type": "stream",
     "text": [
      "WARNING:sagemaker.deprecations:The endpoint attribute has been renamed in sagemaker>=2.\n",
      "See: https://sagemaker.readthedocs.io/en/stable/v2.html for details.\n"
     ]
    },
    {
     "data": {
      "text/plain": [
       "'sagemaker-xgboost-2023-03-14-20-52-37-437'"
      ]
     },
     "execution_count": 11,
     "metadata": {},
     "output_type": "execute_result"
    }
   ],
   "source": [
    "# We save the endpoint\n",
    "\n",
    "endpoint = xgb_predictor.endpoint\n",
    "endpoint"
   ]
  },
  {
   "cell_type": "markdown",
   "id": "09051af6",
   "metadata": {},
   "source": [
    "## Predict the data"
   ]
  },
  {
   "cell_type": "code",
   "execution_count": 12,
   "id": "06a44757",
   "metadata": {},
   "outputs": [
    {
     "name": "stderr",
     "output_type": "stream",
     "text": [
      "INFO:botocore.credentials:Found credentials from IAM Role: BaseNotebookInstanceEc2InstanceRole\n"
     ]
    }
   ],
   "source": [
    "# We define the parameters to extract the test data from the bucket\n",
    "\n",
    "s3 = boto3.client(\"s3\")\n",
    "bucket_name = \"spotify-project-b8\"\n",
    "object_key = \"spotify-project-b8/test/test.csv\"\n",
    "local_file_path = \"/tmp/test.csv\"\n",
    "\n",
    "s3.download_file(Bucket=bucket_name, Key=object_key, Filename=local_file_path)\n",
    "\n",
    "test_data = pd.read_csv(\"test.csv\")"
   ]
  },
  {
   "cell_type": "code",
   "execution_count": 13,
   "id": "13de8538",
   "metadata": {},
   "outputs": [
    {
     "name": "stdout",
     "output_type": "stream",
     "text": [
      "[0.03224378 0.04360343 0.31868514 ... 0.63510233 0.83114851 0.43218032]\n"
     ]
    }
   ],
   "source": [
    "# We define the prediction function\n",
    "\n",
    "def predict(data, rows=500):\n",
    "    split_array = np.array_split(data, int(data.shape[0] / float(rows) + 1))\n",
    "    predictions = \"\"\n",
    "    for array in split_array:\n",
    "        predictions = \"\".join([predictions, xgb_predictor.predict(array).decode(\"utf-8\")])\n",
    "\n",
    "    return predictions.split(\"\\n\")[:-1]\n",
    "\n",
    "# We make the predictions with the test data\n",
    "\n",
    "predictions = predict(test_data.to_numpy()[:, 1:])\n",
    "predictions = np.array([float(num) for num in predictions])\n",
    "print(predictions)"
   ]
  },
  {
   "cell_type": "code",
   "execution_count": 17,
   "id": "a40abcdb",
   "metadata": {},
   "outputs": [
    {
     "name": "stdout",
     "output_type": "stream",
     "text": [
      "Accuracy: 0.8045487715884213\n",
      "Recall: 0.8491689407095013\n",
      "Precision: 0.7740841248303935\n"
     ]
    }
   ],
   "source": [
    "# Compute accuracy, precision, and recall\n",
    "labels = test_data.iloc[:, 0].values\n",
    "accuracy = accuracy_score(labels, predictions.round())\n",
    "precision = precision_score(labels, predictions.round())\n",
    "recall = recall_score(labels, predictions.round())\n",
    "\n",
    "print(\"Accuracy:\", accuracy)\n",
    "print(\"Recall:\", recall)\n",
    "print(\"Precision:\", precision)"
   ]
  },
  {
   "cell_type": "code",
   "execution_count": 19,
   "id": "008e249b",
   "metadata": {},
   "outputs": [
    {
     "name": "stdout",
     "output_type": "stream",
     "text": [
      "Confusion Matrix:\n",
      "[[3192  999]\n",
      " [ 608 3423]]\n"
     ]
    }
   ],
   "source": [
    "# We compute the confussion matrix\n",
    "cm = confusion_matrix(labels, predictions.round())\n",
    "print(\"Confusion Matrix:\")\n",
    "print(cm)"
   ]
  },
  {
   "cell_type": "code",
   "execution_count": null,
   "id": "bb72870f",
   "metadata": {},
   "outputs": [],
   "source": []
  }
 ],
 "metadata": {
  "kernelspec": {
   "display_name": "conda_python3",
   "language": "python",
   "name": "conda_python3"
  },
  "language_info": {
   "codemirror_mode": {
    "name": "ipython",
    "version": 3
   },
   "file_extension": ".py",
   "mimetype": "text/x-python",
   "name": "python",
   "nbconvert_exporter": "python",
   "pygments_lexer": "ipython3",
   "version": "3.10.8"
  }
 },
 "nbformat": 4,
 "nbformat_minor": 5
}
